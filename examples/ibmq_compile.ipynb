{
 "cells": [
  {
   "cell_type": "code",
   "execution_count": 1,
   "id": "032904b0",
   "metadata": {},
   "outputs": [],
   "source": [
    "import cirq\n",
    "import numpy as np\n",
    "import os\n",
    "import cirq_superstaq as css"
   ]
  },
  {
   "cell_type": "code",
   "execution_count": 2,
   "id": "9177124a",
   "metadata": {},
   "outputs": [],
   "source": [
    "try:\n",
    "    import qiskit\n",
    "\n",
    "    install_qiskit = not (\"0.18\" <= qiskit.__version__ < \"0.19\")\n",
    "except ImportError:\n",
    "    install_qiskit = True\n",
    "\n",
    "if install_qiskit:\n",
    "    print(\"installing qiskit...\")\n",
    "    !pip install -q qiskit-terra==0.18.3\n",
    "    print(\"installed qiskit.\")"
   ]
  },
  {
   "cell_type": "code",
   "execution_count": 3,
   "id": "972b9908",
   "metadata": {},
   "outputs": [],
   "source": [
    "service = css.Service()"
   ]
  },
  {
   "cell_type": "code",
   "execution_count": 4,
   "id": "06be41c6",
   "metadata": {},
   "outputs": [],
   "source": [
    "qubits = cirq.LineQubit.range(2)"
   ]
  },
  {
   "cell_type": "code",
   "execution_count": 5,
   "id": "be72b5d7",
   "metadata": {},
   "outputs": [],
   "source": [
    "circuit = cirq.Circuit(css.AceCRPlusMinus(qubits[0], qubits[1]))"
   ]
  },
  {
   "cell_type": "code",
   "execution_count": 6,
   "id": "a8d57f9a",
   "metadata": {},
   "outputs": [
    {
     "data": {
      "text/html": [
       "<pre style=\"overflow: auto; white-space: pre;\">0: ───AceCR+-(Z side)───\n",
       "      │\n",
       "1: ───AceCR+-(X side)───</pre>"
      ],
      "text/plain": [
       "0: ───AceCR+-(Z side)───\n",
       "      │\n",
       "1: ───AceCR+-(X side)───"
      ]
     },
     "execution_count": 6,
     "metadata": {},
     "output_type": "execute_result"
    }
   ],
   "source": [
    "circuit"
   ]
  },
  {
   "cell_type": "code",
   "execution_count": 7,
   "id": "413d0add",
   "metadata": {},
   "outputs": [],
   "source": [
    "out = service.ibmq_compile(circuit, target=\"ibmq_jakarta_qpu\")"
   ]
  },
  {
   "cell_type": "code",
   "execution_count": 8,
   "id": "21ffbd3f",
   "metadata": {},
   "outputs": [
    {
     "data": {
      "text/html": [
       "<pre style=\"overflow: auto; white-space: pre;\">0: ───AceCR+-(Z side)───\n",
       "      │\n",
       "1: ───AceCR+-(X side)───</pre>"
      ],
      "text/plain": [
       "0: ───AceCR+-(Z side)───\n",
       "      │\n",
       "1: ───AceCR+-(X side)───"
      ]
     },
     "execution_count": 8,
     "metadata": {},
     "output_type": "execute_result"
    }
   ],
   "source": [
    "out.circuit"
   ]
  },
  {
   "cell_type": "code",
   "execution_count": 9,
   "id": "4b84ff3a",
   "metadata": {},
   "outputs": [
    {
     "ename": "AttributeError",
     "evalue": "'Schedule' object has no attribute '_Schedule__children'",
     "output_type": "error",
     "traceback": [
      "\u001b[0;31m---------------------------------------------------------------------------\u001b[0m",
      "\u001b[0;31mAttributeError\u001b[0m                            Traceback (most recent call last)",
      "Input \u001b[0;32mIn [9]\u001b[0m, in \u001b[0;36m<cell line: 1>\u001b[0;34m()\u001b[0m\n\u001b[0;32m----> 1\u001b[0m \u001b[43mout\u001b[49m\u001b[38;5;241;43m.\u001b[39;49m\u001b[43mpulse_sequence\u001b[49m\u001b[38;5;241;43m.\u001b[39;49m\u001b[43mdraw\u001b[49m\u001b[43m(\u001b[49m\u001b[43m)\u001b[49m\n",
      "File \u001b[0;32m~/coldquanta/venv_cirq_superstaq/lib/python3.8/site-packages/qiskit/pulse/schedule.py:1539\u001b[0m, in \u001b[0;36m_common_method.<locals>.decorator.<locals>.wrapper\u001b[0;34m(*args, **kwargs)\u001b[0m\n\u001b[1;32m   1537\u001b[0m \u001b[38;5;129m@functools\u001b[39m\u001b[38;5;241m.\u001b[39mwraps(method)\n\u001b[1;32m   1538\u001b[0m \u001b[38;5;28;01mdef\u001b[39;00m \u001b[38;5;21mwrapper\u001b[39m(\u001b[38;5;241m*\u001b[39margs, \u001b[38;5;241m*\u001b[39m\u001b[38;5;241m*\u001b[39mkwargs):\n\u001b[0;32m-> 1539\u001b[0m     \u001b[38;5;28;01mreturn\u001b[39;00m \u001b[43mmethod\u001b[49m\u001b[43m(\u001b[49m\u001b[38;5;241;43m*\u001b[39;49m\u001b[43margs\u001b[49m\u001b[43m,\u001b[49m\u001b[43m \u001b[49m\u001b[38;5;241;43m*\u001b[39;49m\u001b[38;5;241;43m*\u001b[39;49m\u001b[43mkwargs\u001b[49m\u001b[43m)\u001b[49m\n",
      "File \u001b[0;32m~/coldquanta/venv_cirq_superstaq/lib/python3.8/site-packages/qiskit/pulse/schedule.py:1681\u001b[0m, in \u001b[0;36mdraw\u001b[0;34m(self, dt, style, filename, interp_method, scale, channel_scales, plot_all, plot_range, interactive, table, label, framechange, channels, show_framechange_channels, draw_title, backend, time_range, time_unit, disable_channels, show_snapshot, show_framechange, show_waveform_info, show_barrier, plotter, axis)\u001b[0m\n\u001b[1;32m   1675\u001b[0m     style \u001b[38;5;241m=\u001b[39m \u001b[38;5;28;01mNone\u001b[39;00m\n\u001b[1;32m   1676\u001b[0m     warnings\u001b[38;5;241m.\u001b[39mwarn(\n\u001b[1;32m   1677\u001b[0m         \u001b[38;5;124m\"\u001b[39m\u001b[38;5;124mLegacy stylesheet is specified. This is ignored in the new drawer. \u001b[39m\u001b[38;5;124m\"\u001b[39m\n\u001b[1;32m   1678\u001b[0m         \u001b[38;5;124m\"\u001b[39m\u001b[38;5;124mPlease check the API documentation for this method.\u001b[39m\u001b[38;5;124m\"\u001b[39m\n\u001b[1;32m   1679\u001b[0m     )\n\u001b[0;32m-> 1681\u001b[0m \u001b[38;5;28;01mreturn\u001b[39;00m \u001b[43mpulse_drawer_v2\u001b[49m\u001b[43m(\u001b[49m\n\u001b[1;32m   1682\u001b[0m \u001b[43m    \u001b[49m\u001b[43mprogram\u001b[49m\u001b[38;5;241;43m=\u001b[39;49m\u001b[38;5;28;43mself\u001b[39;49m\u001b[43m,\u001b[49m\n\u001b[1;32m   1683\u001b[0m \u001b[43m    \u001b[49m\u001b[43mstyle\u001b[49m\u001b[38;5;241;43m=\u001b[39;49m\u001b[43mstyle\u001b[49m\u001b[43m,\u001b[49m\n\u001b[1;32m   1684\u001b[0m \u001b[43m    \u001b[49m\u001b[43mbackend\u001b[49m\u001b[38;5;241;43m=\u001b[39;49m\u001b[43mbackend\u001b[49m\u001b[43m,\u001b[49m\n\u001b[1;32m   1685\u001b[0m \u001b[43m    \u001b[49m\u001b[43mtime_range\u001b[49m\u001b[38;5;241;43m=\u001b[39;49m\u001b[43mtime_range\u001b[49m\u001b[43m,\u001b[49m\n\u001b[1;32m   1686\u001b[0m \u001b[43m    \u001b[49m\u001b[43mtime_unit\u001b[49m\u001b[38;5;241;43m=\u001b[39;49m\u001b[43mtime_unit\u001b[49m\u001b[43m,\u001b[49m\n\u001b[1;32m   1687\u001b[0m \u001b[43m    \u001b[49m\u001b[43mdisable_channels\u001b[49m\u001b[38;5;241;43m=\u001b[39;49m\u001b[43mdisable_channels\u001b[49m\u001b[43m,\u001b[49m\n\u001b[1;32m   1688\u001b[0m \u001b[43m    \u001b[49m\u001b[43mshow_snapshot\u001b[49m\u001b[38;5;241;43m=\u001b[39;49m\u001b[43mshow_snapshot\u001b[49m\u001b[43m,\u001b[49m\n\u001b[1;32m   1689\u001b[0m \u001b[43m    \u001b[49m\u001b[43mshow_framechange\u001b[49m\u001b[38;5;241;43m=\u001b[39;49m\u001b[43mshow_framechange\u001b[49m\u001b[43m,\u001b[49m\n\u001b[1;32m   1690\u001b[0m \u001b[43m    \u001b[49m\u001b[43mshow_waveform_info\u001b[49m\u001b[38;5;241;43m=\u001b[39;49m\u001b[43mshow_waveform_info\u001b[49m\u001b[43m,\u001b[49m\n\u001b[1;32m   1691\u001b[0m \u001b[43m    \u001b[49m\u001b[43mshow_barrier\u001b[49m\u001b[38;5;241;43m=\u001b[39;49m\u001b[43mshow_barrier\u001b[49m\u001b[43m,\u001b[49m\n\u001b[1;32m   1692\u001b[0m \u001b[43m    \u001b[49m\u001b[43mplotter\u001b[49m\u001b[38;5;241;43m=\u001b[39;49m\u001b[43mplotter\u001b[49m\u001b[43m,\u001b[49m\n\u001b[1;32m   1693\u001b[0m \u001b[43m    \u001b[49m\u001b[43maxis\u001b[49m\u001b[38;5;241;43m=\u001b[39;49m\u001b[43maxis\u001b[49m\u001b[43m,\u001b[49m\n\u001b[1;32m   1694\u001b[0m \u001b[43m\u001b[49m\u001b[43m)\u001b[49m\n",
      "File \u001b[0;32m~/coldquanta/venv_cirq_superstaq/lib/python3.8/site-packages/qiskit/visualization/pulse_v2/interface.py:388\u001b[0m, in \u001b[0;36mdraw\u001b[0;34m(program, style, backend, time_range, time_unit, disable_channels, show_snapshot, show_framechange, show_waveform_info, show_barrier, plotter, axis)\u001b[0m\n\u001b[1;32m    386\u001b[0m \u001b[38;5;66;03m# create empty canvas and load program\u001b[39;00m\n\u001b[1;32m    387\u001b[0m canvas \u001b[38;5;241m=\u001b[39m core\u001b[38;5;241m.\u001b[39mDrawerCanvas(stylesheet\u001b[38;5;241m=\u001b[39mtemp_style, device\u001b[38;5;241m=\u001b[39mdevice)\n\u001b[0;32m--> 388\u001b[0m \u001b[43mcanvas\u001b[49m\u001b[38;5;241;43m.\u001b[39;49m\u001b[43mload_program\u001b[49m\u001b[43m(\u001b[49m\u001b[43mprogram\u001b[49m\u001b[38;5;241;43m=\u001b[39;49m\u001b[43mprogram\u001b[49m\u001b[43m)\u001b[49m\n\u001b[1;32m    390\u001b[0m \u001b[38;5;66;03m#\u001b[39;00m\n\u001b[1;32m    391\u001b[0m \u001b[38;5;66;03m# update configuration\u001b[39;00m\n\u001b[1;32m    392\u001b[0m \u001b[38;5;66;03m#\u001b[39;00m\n\u001b[1;32m    393\u001b[0m \n\u001b[1;32m    394\u001b[0m \u001b[38;5;66;03m# time range\u001b[39;00m\n\u001b[1;32m    395\u001b[0m \u001b[38;5;28;01mif\u001b[39;00m time_range:\n",
      "File \u001b[0;32m~/coldquanta/venv_cirq_superstaq/lib/python3.8/site-packages/qiskit/visualization/pulse_v2/core.py:208\u001b[0m, in \u001b[0;36mDrawerCanvas.load_program\u001b[0;34m(self, program)\u001b[0m\n\u001b[1;32m    199\u001b[0m \u001b[38;5;124;03m\"\"\"Load a program to draw.\u001b[39;00m\n\u001b[1;32m    200\u001b[0m \n\u001b[1;32m    201\u001b[0m \u001b[38;5;124;03mArgs:\u001b[39;00m\n\u001b[0;32m   (...)\u001b[0m\n\u001b[1;32m    205\u001b[0m \u001b[38;5;124;03m    VisualizationError: When input program is invalid data format.\u001b[39;00m\n\u001b[1;32m    206\u001b[0m \u001b[38;5;124;03m\"\"\"\u001b[39;00m\n\u001b[1;32m    207\u001b[0m \u001b[38;5;28;01mif\u001b[39;00m \u001b[38;5;28misinstance\u001b[39m(program, (pulse\u001b[38;5;241m.\u001b[39mSchedule, pulse\u001b[38;5;241m.\u001b[39mScheduleBlock)):\n\u001b[0;32m--> 208\u001b[0m     \u001b[38;5;28;43mself\u001b[39;49m\u001b[38;5;241;43m.\u001b[39;49m\u001b[43m_schedule_loader\u001b[49m\u001b[43m(\u001b[49m\u001b[43mprogram\u001b[49m\u001b[43m)\u001b[49m\n\u001b[1;32m    209\u001b[0m \u001b[38;5;28;01melif\u001b[39;00m \u001b[38;5;28misinstance\u001b[39m(program, (pulse\u001b[38;5;241m.\u001b[39mWaveform, pulse\u001b[38;5;241m.\u001b[39mParametricPulse)):\n\u001b[1;32m    210\u001b[0m     \u001b[38;5;28mself\u001b[39m\u001b[38;5;241m.\u001b[39m_waveform_loader(program)\n",
      "File \u001b[0;32m~/coldquanta/venv_cirq_superstaq/lib/python3.8/site-packages/qiskit/visualization/pulse_v2/core.py:254\u001b[0m, in \u001b[0;36mDrawerCanvas._schedule_loader\u001b[0;34m(self, program)\u001b[0m\n\u001b[1;32m    246\u001b[0m \u001b[38;5;28;01mdef\u001b[39;00m \u001b[38;5;21m_schedule_loader\u001b[39m(\u001b[38;5;28mself\u001b[39m, program: Union[pulse\u001b[38;5;241m.\u001b[39mSchedule, pulse\u001b[38;5;241m.\u001b[39mScheduleBlock]):\n\u001b[1;32m    247\u001b[0m     \u001b[38;5;124;03m\"\"\"Load Schedule instance.\u001b[39;00m\n\u001b[1;32m    248\u001b[0m \n\u001b[1;32m    249\u001b[0m \u001b[38;5;124;03m    This function is sub-routine of py:method:`load_program`.\u001b[39;00m\n\u001b[0;32m   (...)\u001b[0m\n\u001b[1;32m    252\u001b[0m \u001b[38;5;124;03m        program: `Schedule` to draw.\u001b[39;00m\n\u001b[1;32m    253\u001b[0m \u001b[38;5;124;03m    \"\"\"\u001b[39;00m\n\u001b[0;32m--> 254\u001b[0m     program \u001b[38;5;241m=\u001b[39m \u001b[43mtarget_qobj_transform\u001b[49m\u001b[43m(\u001b[49m\u001b[43mprogram\u001b[49m\u001b[43m,\u001b[49m\u001b[43m \u001b[49m\u001b[43mremove_directives\u001b[49m\u001b[38;5;241;43m=\u001b[39;49m\u001b[38;5;28;43;01mFalse\u001b[39;49;00m\u001b[43m)\u001b[49m\n\u001b[1;32m    256\u001b[0m     \u001b[38;5;66;03m# initialize scale values\u001b[39;00m\n\u001b[1;32m    257\u001b[0m     \u001b[38;5;28mself\u001b[39m\u001b[38;5;241m.\u001b[39mchan_scales \u001b[38;5;241m=\u001b[39m {}\n",
      "File \u001b[0;32m~/coldquanta/venv_cirq_superstaq/lib/python3.8/site-packages/qiskit/pulse/transforms/base_transforms.py:46\u001b[0m, in \u001b[0;36mtarget_qobj_transform\u001b[0;34m(sched, remove_directives)\u001b[0m\n\u001b[1;32m     43\u001b[0m         sched \u001b[38;5;241m=\u001b[39m Schedule(\u001b[38;5;241m*\u001b[39m_format_schedule_component(sched))\n\u001b[1;32m     45\u001b[0m \u001b[38;5;66;03m# remove subroutines, i.e. Call instructions\u001b[39;00m\n\u001b[0;32m---> 46\u001b[0m sched \u001b[38;5;241m=\u001b[39m \u001b[43mcanonicalization\u001b[49m\u001b[38;5;241;43m.\u001b[39;49m\u001b[43minline_subroutines\u001b[49m\u001b[43m(\u001b[49m\u001b[43msched\u001b[49m\u001b[43m)\u001b[49m\n\u001b[1;32m     48\u001b[0m \u001b[38;5;66;03m# inline nested schedules\u001b[39;00m\n\u001b[1;32m     49\u001b[0m sched \u001b[38;5;241m=\u001b[39m canonicalization\u001b[38;5;241m.\u001b[39mflatten(sched)\n",
      "File \u001b[0;32m~/coldquanta/venv_cirq_superstaq/lib/python3.8/site-packages/qiskit/pulse/transforms/canonicalization.py:152\u001b[0m, in \u001b[0;36minline_subroutines\u001b[0;34m(program)\u001b[0m\n\u001b[1;32m    137\u001b[0m \u001b[38;5;124;03m\"\"\"Recursively remove call instructions and inline the respective subroutine instructions.\u001b[39;00m\n\u001b[1;32m    138\u001b[0m \n\u001b[1;32m    139\u001b[0m \u001b[38;5;124;03mAssigned parameter values, which are stored in the parameter table, are also applied.\u001b[39;00m\n\u001b[0;32m   (...)\u001b[0m\n\u001b[1;32m    149\u001b[0m \u001b[38;5;124;03m    PulseError: When input program is not valid data format.\u001b[39;00m\n\u001b[1;32m    150\u001b[0m \u001b[38;5;124;03m\"\"\"\u001b[39;00m\n\u001b[1;32m    151\u001b[0m \u001b[38;5;28;01mif\u001b[39;00m \u001b[38;5;28misinstance\u001b[39m(program, Schedule):\n\u001b[0;32m--> 152\u001b[0m     \u001b[38;5;28;01mreturn\u001b[39;00m \u001b[43m_inline_schedule\u001b[49m\u001b[43m(\u001b[49m\u001b[43mprogram\u001b[49m\u001b[43m)\u001b[49m\n\u001b[1;32m    153\u001b[0m \u001b[38;5;28;01melif\u001b[39;00m \u001b[38;5;28misinstance\u001b[39m(program, ScheduleBlock):\n\u001b[1;32m    154\u001b[0m     \u001b[38;5;28;01mreturn\u001b[39;00m _inline_block(program)\n",
      "File \u001b[0;32m~/coldquanta/venv_cirq_superstaq/lib/python3.8/site-packages/qiskit/pulse/transforms/canonicalization.py:165\u001b[0m, in \u001b[0;36m_inline_schedule\u001b[0;34m(schedule)\u001b[0m\n\u001b[1;32m    160\u001b[0m \u001b[38;5;124;03m\"\"\"A helper function to inline subroutine of schedule.\u001b[39;00m\n\u001b[1;32m    161\u001b[0m \n\u001b[1;32m    162\u001b[0m \u001b[38;5;124;03m.. note:: If subroutine is ``ScheduleBlock`` it is converted into Schedule to get ``t0``.\u001b[39;00m\n\u001b[1;32m    163\u001b[0m \u001b[38;5;124;03m\"\"\"\u001b[39;00m\n\u001b[1;32m    164\u001b[0m ret_schedule \u001b[38;5;241m=\u001b[39m Schedule\u001b[38;5;241m.\u001b[39minitialize_from(schedule)\n\u001b[0;32m--> 165\u001b[0m \u001b[38;5;28;01mfor\u001b[39;00m t0, inst \u001b[38;5;129;01min\u001b[39;00m \u001b[43mschedule\u001b[49m\u001b[38;5;241;43m.\u001b[39;49m\u001b[43mchildren\u001b[49m:\n\u001b[1;32m    166\u001b[0m     \u001b[38;5;66;03m# note that schedule.instructions unintentionally flatten the nested schedule.\u001b[39;00m\n\u001b[1;32m    167\u001b[0m     \u001b[38;5;66;03m# this should be performed by another transformer node.\u001b[39;00m\n\u001b[1;32m    168\u001b[0m     \u001b[38;5;28;01mif\u001b[39;00m \u001b[38;5;28misinstance\u001b[39m(inst, instructions\u001b[38;5;241m.\u001b[39mCall):\n\u001b[1;32m    169\u001b[0m         \u001b[38;5;66;03m# bind parameter\u001b[39;00m\n\u001b[1;32m    170\u001b[0m         subroutine \u001b[38;5;241m=\u001b[39m inst\u001b[38;5;241m.\u001b[39massigned_subroutine()\n",
      "File \u001b[0;32m~/coldquanta/venv_cirq_superstaq/lib/python3.8/site-packages/qiskit/pulse/schedule.py:270\u001b[0m, in \u001b[0;36mSchedule.children\u001b[0;34m(self)\u001b[0m\n\u001b[1;32m    256\u001b[0m \u001b[38;5;129m@property\u001b[39m\n\u001b[1;32m    257\u001b[0m \u001b[38;5;28;01mdef\u001b[39;00m \u001b[38;5;21mchildren\u001b[39m(\u001b[38;5;28mself\u001b[39m) \u001b[38;5;241m-\u001b[39m\u001b[38;5;241m>\u001b[39m Tuple[Tuple[\u001b[38;5;28mint\u001b[39m, ScheduleComponent], \u001b[38;5;241m.\u001b[39m\u001b[38;5;241m.\u001b[39m\u001b[38;5;241m.\u001b[39m]:\n\u001b[1;32m    258\u001b[0m     \u001b[38;5;124;03m\"\"\"Return the child schedule components of this ``Schedule`` in the\u001b[39;00m\n\u001b[1;32m    259\u001b[0m \u001b[38;5;124;03m    order they were added to the schedule.\u001b[39;00m\n\u001b[1;32m    260\u001b[0m \n\u001b[0;32m   (...)\u001b[0m\n\u001b[1;32m    268\u001b[0m \u001b[38;5;124;03m        itself.\u001b[39;00m\n\u001b[1;32m    269\u001b[0m \u001b[38;5;124;03m    \"\"\"\u001b[39;00m\n\u001b[0;32m--> 270\u001b[0m     \u001b[38;5;28;01mreturn\u001b[39;00m \u001b[38;5;28mtuple\u001b[39m(\u001b[38;5;28;43mself\u001b[39;49m\u001b[38;5;241;43m.\u001b[39;49m\u001b[43m__children\u001b[49m)\n",
      "\u001b[0;31mAttributeError\u001b[0m: 'Schedule' object has no attribute '_Schedule__children'"
     ]
    }
   ],
   "source": [
    "out.pulse_sequence.draw()"
   ]
  },
  {
   "cell_type": "code",
   "execution_count": 10,
   "id": "c76cb2fb",
   "metadata": {},
   "outputs": [
    {
     "ename": "AttributeError",
     "evalue": "Can't get attribute 'CalibrationPublisher' on <module 'qiskit.pulse.instruction_schedule_map' from '/home/palashg/coldquanta/venv_cirq_superstaq/lib/python3.8/site-packages/qiskit/pulse/instruction_schedule_map.py'>",
     "output_type": "error",
     "traceback": [
      "\u001b[0;31m---------------------------------------------------------------------------\u001b[0m",
      "\u001b[0;31mAttributeError\u001b[0m                            Traceback (most recent call last)",
      "Input \u001b[0;32mIn [10]\u001b[0m, in \u001b[0;36m<cell line: 2>\u001b[0;34m()\u001b[0m\n\u001b[1;32m      1\u001b[0m circuit \u001b[38;5;241m=\u001b[39m cirq\u001b[38;5;241m.\u001b[39mCircuit(css\u001b[38;5;241m.\u001b[39mAceCR(\u001b[38;5;124m\"\u001b[39m\u001b[38;5;124m-+\u001b[39m\u001b[38;5;124m\"\u001b[39m, np\u001b[38;5;241m.\u001b[39mpi \u001b[38;5;241m/\u001b[39m \u001b[38;5;241m2\u001b[39m)(qubits[\u001b[38;5;241m0\u001b[39m], qubits[\u001b[38;5;241m1\u001b[39m]))\n\u001b[0;32m----> 2\u001b[0m out \u001b[38;5;241m=\u001b[39m \u001b[43mservice\u001b[49m\u001b[38;5;241;43m.\u001b[39;49m\u001b[43mibmq_compile\u001b[49m\u001b[43m(\u001b[49m\u001b[43mcircuit\u001b[49m\u001b[43m,\u001b[49m\u001b[43m \u001b[49m\u001b[43mtarget\u001b[49m\u001b[38;5;241;43m=\u001b[39;49m\u001b[38;5;124;43m\"\u001b[39;49m\u001b[38;5;124;43mibmq_jakarta_qpu\u001b[39;49m\u001b[38;5;124;43m\"\u001b[39;49m\u001b[43m)\u001b[49m\n",
      "File \u001b[0;32m~/coldquanta/cirq-superstaq/cirq_superstaq/service.py:380\u001b[0m, in \u001b[0;36mService.ibmq_compile\u001b[0;34m(self, circuits, target)\u001b[0m\n\u001b[1;32m    374\u001b[0m circuits_is_list \u001b[38;5;241m=\u001b[39m \u001b[38;5;129;01mnot\u001b[39;00m \u001b[38;5;28misinstance\u001b[39m(circuits, cirq\u001b[38;5;241m.\u001b[39mCircuit)\n\u001b[1;32m    376\u001b[0m json_dict \u001b[38;5;241m=\u001b[39m \u001b[38;5;28mself\u001b[39m\u001b[38;5;241m.\u001b[39m_client\u001b[38;5;241m.\u001b[39mibmq_compile(\n\u001b[1;32m    377\u001b[0m     {\u001b[38;5;124m\"\u001b[39m\u001b[38;5;124mcirq_circuits\u001b[39m\u001b[38;5;124m\"\u001b[39m: serialized_circuits, \u001b[38;5;124m\"\u001b[39m\u001b[38;5;124mbackend\u001b[39m\u001b[38;5;124m\"\u001b[39m: target}\n\u001b[1;32m    378\u001b[0m )\n\u001b[0;32m--> 380\u001b[0m \u001b[38;5;28;01mreturn\u001b[39;00m \u001b[43mcss\u001b[49m\u001b[38;5;241;43m.\u001b[39;49m\u001b[43mcompiler_output\u001b[49m\u001b[38;5;241;43m.\u001b[39;49m\u001b[43mread_json_ibmq\u001b[49m\u001b[43m(\u001b[49m\u001b[43mjson_dict\u001b[49m\u001b[43m,\u001b[49m\u001b[43m \u001b[49m\u001b[43mcircuits_is_list\u001b[49m\u001b[43m)\u001b[49m\n",
      "File \u001b[0;32m~/coldquanta/cirq-superstaq/cirq_superstaq/compiler_output.py:76\u001b[0m, in \u001b[0;36mread_json_ibmq\u001b[0;34m(json_dict, circuits_is_list)\u001b[0m\n\u001b[1;32m     73\u001b[0m \u001b[38;5;28;01mimport\u001b[39;00m \u001b[38;5;21;01mqiskit\u001b[39;00m\n\u001b[1;32m     75\u001b[0m \u001b[38;5;28;01mif\u001b[39;00m qiskit\u001b[38;5;241m.\u001b[39m__version__ \u001b[38;5;241m>\u001b[39m\u001b[38;5;241m=\u001b[39m \u001b[38;5;124m\"\u001b[39m\u001b[38;5;124m0.18\u001b[39m\u001b[38;5;124m\"\u001b[39m:\n\u001b[0;32m---> 76\u001b[0m     pulses \u001b[38;5;241m=\u001b[39m \u001b[43mapplications_superstaq\u001b[49m\u001b[38;5;241;43m.\u001b[39;49m\u001b[43mconverters\u001b[49m\u001b[38;5;241;43m.\u001b[39;49m\u001b[43mdeserialize\u001b[49m\u001b[43m(\u001b[49m\u001b[43mjson_dict\u001b[49m\u001b[43m[\u001b[49m\u001b[38;5;124;43m\"\u001b[39;49m\u001b[38;5;124;43mpulses\u001b[39;49m\u001b[38;5;124;43m\"\u001b[39;49m\u001b[43m]\u001b[49m\u001b[43m)\u001b[49m\n\u001b[1;32m     77\u001b[0m \u001b[38;5;28;01melse\u001b[39;00m:\n\u001b[1;32m     78\u001b[0m     warnings\u001b[38;5;241m.\u001b[39mwarn(\n\u001b[1;32m     79\u001b[0m         \u001b[38;5;124m\"\u001b[39m\u001b[38;5;124mibmq_compile requires Qiskit Terra version 0.18.0 or higher to deserialize\u001b[39m\u001b[38;5;124m\"\u001b[39m\n\u001b[1;32m     80\u001b[0m         \u001b[38;5;124mf\u001b[39m\u001b[38;5;124m\"\u001b[39m\u001b[38;5;124mcompiled pulse sequences (you have \u001b[39m\u001b[38;5;132;01m{\u001b[39;00mqiskit\u001b[38;5;241m.\u001b[39m__version__\u001b[38;5;132;01m}\u001b[39;00m\u001b[38;5;124m).\u001b[39m\u001b[38;5;124m\"\u001b[39m\n\u001b[1;32m     81\u001b[0m     )\n",
      "File \u001b[0;32m~/coldquanta/venv_cirq_superstaq/lib/python3.8/site-packages/applications_superstaq/converters.py:37\u001b[0m, in \u001b[0;36mdeserialize\u001b[0;34m(serialized_obj)\u001b[0m\n\u001b[1;32m     27\u001b[0m \u001b[38;5;28;01mdef\u001b[39;00m \u001b[38;5;21mdeserialize\u001b[39m(serialized_obj: \u001b[38;5;28mstr\u001b[39m) \u001b[38;5;241m-\u001b[39m\u001b[38;5;241m>\u001b[39m Any:\n\u001b[1;32m     28\u001b[0m     \u001b[38;5;124;03m\"\"\"Deserialize serialized objects\u001b[39;00m\n\u001b[1;32m     29\u001b[0m \n\u001b[1;32m     30\u001b[0m \u001b[38;5;124;03m    Args:\u001b[39;00m\n\u001b[0;32m   (...)\u001b[0m\n\u001b[1;32m     34\u001b[0m \u001b[38;5;124;03m        the serialized object\u001b[39;00m\n\u001b[1;32m     35\u001b[0m \u001b[38;5;124;03m    \"\"\"\u001b[39;00m\n\u001b[0;32m---> 37\u001b[0m     \u001b[38;5;28;01mreturn\u001b[39;00m \u001b[43mpickle\u001b[49m\u001b[38;5;241;43m.\u001b[39;49m\u001b[43mloads\u001b[49m\u001b[43m(\u001b[49m\u001b[43m_str_to_bytes\u001b[49m\u001b[43m(\u001b[49m\u001b[43mserialized_obj\u001b[49m\u001b[43m)\u001b[49m\u001b[43m)\u001b[49m\n",
      "\u001b[0;31mAttributeError\u001b[0m: Can't get attribute 'CalibrationPublisher' on <module 'qiskit.pulse.instruction_schedule_map' from '/home/palashg/coldquanta/venv_cirq_superstaq/lib/python3.8/site-packages/qiskit/pulse/instruction_schedule_map.py'>"
     ]
    }
   ],
   "source": [
    "circuit = cirq.Circuit(css.AceCR(\"-+\", np.pi / 2)(qubits[0], qubits[1]))\n",
    "out = service.ibmq_compile(circuit, target=\"ibmq_jakarta_qpu\")"
   ]
  },
  {
   "cell_type": "code",
   "execution_count": 11,
   "id": "e89586d1",
   "metadata": {},
   "outputs": [
    {
     "data": {
      "text/html": [
       "<pre style=\"overflow: auto; white-space: pre;\">0: ───AceCR+-(Z side)───\n",
       "      │\n",
       "1: ───AceCR+-(X side)───</pre>"
      ],
      "text/plain": [
       "0: ───AceCR+-(Z side)───\n",
       "      │\n",
       "1: ───AceCR+-(X side)───"
      ]
     },
     "execution_count": 11,
     "metadata": {},
     "output_type": "execute_result"
    }
   ],
   "source": [
    "out.circuit"
   ]
  },
  {
   "cell_type": "code",
   "execution_count": 12,
   "id": "89c1450a",
   "metadata": {},
   "outputs": [
    {
     "ename": "AttributeError",
     "evalue": "'Schedule' object has no attribute '_Schedule__children'",
     "output_type": "error",
     "traceback": [
      "\u001b[0;31m---------------------------------------------------------------------------\u001b[0m",
      "\u001b[0;31mAttributeError\u001b[0m                            Traceback (most recent call last)",
      "Input \u001b[0;32mIn [12]\u001b[0m, in \u001b[0;36m<cell line: 1>\u001b[0;34m()\u001b[0m\n\u001b[0;32m----> 1\u001b[0m \u001b[43mout\u001b[49m\u001b[38;5;241;43m.\u001b[39;49m\u001b[43mpulse_sequence\u001b[49m\u001b[38;5;241;43m.\u001b[39;49m\u001b[43mdraw\u001b[49m\u001b[43m(\u001b[49m\u001b[43m)\u001b[49m\n",
      "File \u001b[0;32m~/coldquanta/venv_cirq_superstaq/lib/python3.8/site-packages/qiskit/pulse/schedule.py:1539\u001b[0m, in \u001b[0;36m_common_method.<locals>.decorator.<locals>.wrapper\u001b[0;34m(*args, **kwargs)\u001b[0m\n\u001b[1;32m   1537\u001b[0m \u001b[38;5;129m@functools\u001b[39m\u001b[38;5;241m.\u001b[39mwraps(method)\n\u001b[1;32m   1538\u001b[0m \u001b[38;5;28;01mdef\u001b[39;00m \u001b[38;5;21mwrapper\u001b[39m(\u001b[38;5;241m*\u001b[39margs, \u001b[38;5;241m*\u001b[39m\u001b[38;5;241m*\u001b[39mkwargs):\n\u001b[0;32m-> 1539\u001b[0m     \u001b[38;5;28;01mreturn\u001b[39;00m \u001b[43mmethod\u001b[49m\u001b[43m(\u001b[49m\u001b[38;5;241;43m*\u001b[39;49m\u001b[43margs\u001b[49m\u001b[43m,\u001b[49m\u001b[43m \u001b[49m\u001b[38;5;241;43m*\u001b[39;49m\u001b[38;5;241;43m*\u001b[39;49m\u001b[43mkwargs\u001b[49m\u001b[43m)\u001b[49m\n",
      "File \u001b[0;32m~/coldquanta/venv_cirq_superstaq/lib/python3.8/site-packages/qiskit/pulse/schedule.py:1681\u001b[0m, in \u001b[0;36mdraw\u001b[0;34m(self, dt, style, filename, interp_method, scale, channel_scales, plot_all, plot_range, interactive, table, label, framechange, channels, show_framechange_channels, draw_title, backend, time_range, time_unit, disable_channels, show_snapshot, show_framechange, show_waveform_info, show_barrier, plotter, axis)\u001b[0m\n\u001b[1;32m   1675\u001b[0m     style \u001b[38;5;241m=\u001b[39m \u001b[38;5;28;01mNone\u001b[39;00m\n\u001b[1;32m   1676\u001b[0m     warnings\u001b[38;5;241m.\u001b[39mwarn(\n\u001b[1;32m   1677\u001b[0m         \u001b[38;5;124m\"\u001b[39m\u001b[38;5;124mLegacy stylesheet is specified. This is ignored in the new drawer. \u001b[39m\u001b[38;5;124m\"\u001b[39m\n\u001b[1;32m   1678\u001b[0m         \u001b[38;5;124m\"\u001b[39m\u001b[38;5;124mPlease check the API documentation for this method.\u001b[39m\u001b[38;5;124m\"\u001b[39m\n\u001b[1;32m   1679\u001b[0m     )\n\u001b[0;32m-> 1681\u001b[0m \u001b[38;5;28;01mreturn\u001b[39;00m \u001b[43mpulse_drawer_v2\u001b[49m\u001b[43m(\u001b[49m\n\u001b[1;32m   1682\u001b[0m \u001b[43m    \u001b[49m\u001b[43mprogram\u001b[49m\u001b[38;5;241;43m=\u001b[39;49m\u001b[38;5;28;43mself\u001b[39;49m\u001b[43m,\u001b[49m\n\u001b[1;32m   1683\u001b[0m \u001b[43m    \u001b[49m\u001b[43mstyle\u001b[49m\u001b[38;5;241;43m=\u001b[39;49m\u001b[43mstyle\u001b[49m\u001b[43m,\u001b[49m\n\u001b[1;32m   1684\u001b[0m \u001b[43m    \u001b[49m\u001b[43mbackend\u001b[49m\u001b[38;5;241;43m=\u001b[39;49m\u001b[43mbackend\u001b[49m\u001b[43m,\u001b[49m\n\u001b[1;32m   1685\u001b[0m \u001b[43m    \u001b[49m\u001b[43mtime_range\u001b[49m\u001b[38;5;241;43m=\u001b[39;49m\u001b[43mtime_range\u001b[49m\u001b[43m,\u001b[49m\n\u001b[1;32m   1686\u001b[0m \u001b[43m    \u001b[49m\u001b[43mtime_unit\u001b[49m\u001b[38;5;241;43m=\u001b[39;49m\u001b[43mtime_unit\u001b[49m\u001b[43m,\u001b[49m\n\u001b[1;32m   1687\u001b[0m \u001b[43m    \u001b[49m\u001b[43mdisable_channels\u001b[49m\u001b[38;5;241;43m=\u001b[39;49m\u001b[43mdisable_channels\u001b[49m\u001b[43m,\u001b[49m\n\u001b[1;32m   1688\u001b[0m \u001b[43m    \u001b[49m\u001b[43mshow_snapshot\u001b[49m\u001b[38;5;241;43m=\u001b[39;49m\u001b[43mshow_snapshot\u001b[49m\u001b[43m,\u001b[49m\n\u001b[1;32m   1689\u001b[0m \u001b[43m    \u001b[49m\u001b[43mshow_framechange\u001b[49m\u001b[38;5;241;43m=\u001b[39;49m\u001b[43mshow_framechange\u001b[49m\u001b[43m,\u001b[49m\n\u001b[1;32m   1690\u001b[0m \u001b[43m    \u001b[49m\u001b[43mshow_waveform_info\u001b[49m\u001b[38;5;241;43m=\u001b[39;49m\u001b[43mshow_waveform_info\u001b[49m\u001b[43m,\u001b[49m\n\u001b[1;32m   1691\u001b[0m \u001b[43m    \u001b[49m\u001b[43mshow_barrier\u001b[49m\u001b[38;5;241;43m=\u001b[39;49m\u001b[43mshow_barrier\u001b[49m\u001b[43m,\u001b[49m\n\u001b[1;32m   1692\u001b[0m \u001b[43m    \u001b[49m\u001b[43mplotter\u001b[49m\u001b[38;5;241;43m=\u001b[39;49m\u001b[43mplotter\u001b[49m\u001b[43m,\u001b[49m\n\u001b[1;32m   1693\u001b[0m \u001b[43m    \u001b[49m\u001b[43maxis\u001b[49m\u001b[38;5;241;43m=\u001b[39;49m\u001b[43maxis\u001b[49m\u001b[43m,\u001b[49m\n\u001b[1;32m   1694\u001b[0m \u001b[43m\u001b[49m\u001b[43m)\u001b[49m\n",
      "File \u001b[0;32m~/coldquanta/venv_cirq_superstaq/lib/python3.8/site-packages/qiskit/visualization/pulse_v2/interface.py:388\u001b[0m, in \u001b[0;36mdraw\u001b[0;34m(program, style, backend, time_range, time_unit, disable_channels, show_snapshot, show_framechange, show_waveform_info, show_barrier, plotter, axis)\u001b[0m\n\u001b[1;32m    386\u001b[0m \u001b[38;5;66;03m# create empty canvas and load program\u001b[39;00m\n\u001b[1;32m    387\u001b[0m canvas \u001b[38;5;241m=\u001b[39m core\u001b[38;5;241m.\u001b[39mDrawerCanvas(stylesheet\u001b[38;5;241m=\u001b[39mtemp_style, device\u001b[38;5;241m=\u001b[39mdevice)\n\u001b[0;32m--> 388\u001b[0m \u001b[43mcanvas\u001b[49m\u001b[38;5;241;43m.\u001b[39;49m\u001b[43mload_program\u001b[49m\u001b[43m(\u001b[49m\u001b[43mprogram\u001b[49m\u001b[38;5;241;43m=\u001b[39;49m\u001b[43mprogram\u001b[49m\u001b[43m)\u001b[49m\n\u001b[1;32m    390\u001b[0m \u001b[38;5;66;03m#\u001b[39;00m\n\u001b[1;32m    391\u001b[0m \u001b[38;5;66;03m# update configuration\u001b[39;00m\n\u001b[1;32m    392\u001b[0m \u001b[38;5;66;03m#\u001b[39;00m\n\u001b[1;32m    393\u001b[0m \n\u001b[1;32m    394\u001b[0m \u001b[38;5;66;03m# time range\u001b[39;00m\n\u001b[1;32m    395\u001b[0m \u001b[38;5;28;01mif\u001b[39;00m time_range:\n",
      "File \u001b[0;32m~/coldquanta/venv_cirq_superstaq/lib/python3.8/site-packages/qiskit/visualization/pulse_v2/core.py:208\u001b[0m, in \u001b[0;36mDrawerCanvas.load_program\u001b[0;34m(self, program)\u001b[0m\n\u001b[1;32m    199\u001b[0m \u001b[38;5;124;03m\"\"\"Load a program to draw.\u001b[39;00m\n\u001b[1;32m    200\u001b[0m \n\u001b[1;32m    201\u001b[0m \u001b[38;5;124;03mArgs:\u001b[39;00m\n\u001b[0;32m   (...)\u001b[0m\n\u001b[1;32m    205\u001b[0m \u001b[38;5;124;03m    VisualizationError: When input program is invalid data format.\u001b[39;00m\n\u001b[1;32m    206\u001b[0m \u001b[38;5;124;03m\"\"\"\u001b[39;00m\n\u001b[1;32m    207\u001b[0m \u001b[38;5;28;01mif\u001b[39;00m \u001b[38;5;28misinstance\u001b[39m(program, (pulse\u001b[38;5;241m.\u001b[39mSchedule, pulse\u001b[38;5;241m.\u001b[39mScheduleBlock)):\n\u001b[0;32m--> 208\u001b[0m     \u001b[38;5;28;43mself\u001b[39;49m\u001b[38;5;241;43m.\u001b[39;49m\u001b[43m_schedule_loader\u001b[49m\u001b[43m(\u001b[49m\u001b[43mprogram\u001b[49m\u001b[43m)\u001b[49m\n\u001b[1;32m    209\u001b[0m \u001b[38;5;28;01melif\u001b[39;00m \u001b[38;5;28misinstance\u001b[39m(program, (pulse\u001b[38;5;241m.\u001b[39mWaveform, pulse\u001b[38;5;241m.\u001b[39mParametricPulse)):\n\u001b[1;32m    210\u001b[0m     \u001b[38;5;28mself\u001b[39m\u001b[38;5;241m.\u001b[39m_waveform_loader(program)\n",
      "File \u001b[0;32m~/coldquanta/venv_cirq_superstaq/lib/python3.8/site-packages/qiskit/visualization/pulse_v2/core.py:254\u001b[0m, in \u001b[0;36mDrawerCanvas._schedule_loader\u001b[0;34m(self, program)\u001b[0m\n\u001b[1;32m    246\u001b[0m \u001b[38;5;28;01mdef\u001b[39;00m \u001b[38;5;21m_schedule_loader\u001b[39m(\u001b[38;5;28mself\u001b[39m, program: Union[pulse\u001b[38;5;241m.\u001b[39mSchedule, pulse\u001b[38;5;241m.\u001b[39mScheduleBlock]):\n\u001b[1;32m    247\u001b[0m     \u001b[38;5;124;03m\"\"\"Load Schedule instance.\u001b[39;00m\n\u001b[1;32m    248\u001b[0m \n\u001b[1;32m    249\u001b[0m \u001b[38;5;124;03m    This function is sub-routine of py:method:`load_program`.\u001b[39;00m\n\u001b[0;32m   (...)\u001b[0m\n\u001b[1;32m    252\u001b[0m \u001b[38;5;124;03m        program: `Schedule` to draw.\u001b[39;00m\n\u001b[1;32m    253\u001b[0m \u001b[38;5;124;03m    \"\"\"\u001b[39;00m\n\u001b[0;32m--> 254\u001b[0m     program \u001b[38;5;241m=\u001b[39m \u001b[43mtarget_qobj_transform\u001b[49m\u001b[43m(\u001b[49m\u001b[43mprogram\u001b[49m\u001b[43m,\u001b[49m\u001b[43m \u001b[49m\u001b[43mremove_directives\u001b[49m\u001b[38;5;241;43m=\u001b[39;49m\u001b[38;5;28;43;01mFalse\u001b[39;49;00m\u001b[43m)\u001b[49m\n\u001b[1;32m    256\u001b[0m     \u001b[38;5;66;03m# initialize scale values\u001b[39;00m\n\u001b[1;32m    257\u001b[0m     \u001b[38;5;28mself\u001b[39m\u001b[38;5;241m.\u001b[39mchan_scales \u001b[38;5;241m=\u001b[39m {}\n",
      "File \u001b[0;32m~/coldquanta/venv_cirq_superstaq/lib/python3.8/site-packages/qiskit/pulse/transforms/base_transforms.py:46\u001b[0m, in \u001b[0;36mtarget_qobj_transform\u001b[0;34m(sched, remove_directives)\u001b[0m\n\u001b[1;32m     43\u001b[0m         sched \u001b[38;5;241m=\u001b[39m Schedule(\u001b[38;5;241m*\u001b[39m_format_schedule_component(sched))\n\u001b[1;32m     45\u001b[0m \u001b[38;5;66;03m# remove subroutines, i.e. Call instructions\u001b[39;00m\n\u001b[0;32m---> 46\u001b[0m sched \u001b[38;5;241m=\u001b[39m \u001b[43mcanonicalization\u001b[49m\u001b[38;5;241;43m.\u001b[39;49m\u001b[43minline_subroutines\u001b[49m\u001b[43m(\u001b[49m\u001b[43msched\u001b[49m\u001b[43m)\u001b[49m\n\u001b[1;32m     48\u001b[0m \u001b[38;5;66;03m# inline nested schedules\u001b[39;00m\n\u001b[1;32m     49\u001b[0m sched \u001b[38;5;241m=\u001b[39m canonicalization\u001b[38;5;241m.\u001b[39mflatten(sched)\n",
      "File \u001b[0;32m~/coldquanta/venv_cirq_superstaq/lib/python3.8/site-packages/qiskit/pulse/transforms/canonicalization.py:152\u001b[0m, in \u001b[0;36minline_subroutines\u001b[0;34m(program)\u001b[0m\n\u001b[1;32m    137\u001b[0m \u001b[38;5;124;03m\"\"\"Recursively remove call instructions and inline the respective subroutine instructions.\u001b[39;00m\n\u001b[1;32m    138\u001b[0m \n\u001b[1;32m    139\u001b[0m \u001b[38;5;124;03mAssigned parameter values, which are stored in the parameter table, are also applied.\u001b[39;00m\n\u001b[0;32m   (...)\u001b[0m\n\u001b[1;32m    149\u001b[0m \u001b[38;5;124;03m    PulseError: When input program is not valid data format.\u001b[39;00m\n\u001b[1;32m    150\u001b[0m \u001b[38;5;124;03m\"\"\"\u001b[39;00m\n\u001b[1;32m    151\u001b[0m \u001b[38;5;28;01mif\u001b[39;00m \u001b[38;5;28misinstance\u001b[39m(program, Schedule):\n\u001b[0;32m--> 152\u001b[0m     \u001b[38;5;28;01mreturn\u001b[39;00m \u001b[43m_inline_schedule\u001b[49m\u001b[43m(\u001b[49m\u001b[43mprogram\u001b[49m\u001b[43m)\u001b[49m\n\u001b[1;32m    153\u001b[0m \u001b[38;5;28;01melif\u001b[39;00m \u001b[38;5;28misinstance\u001b[39m(program, ScheduleBlock):\n\u001b[1;32m    154\u001b[0m     \u001b[38;5;28;01mreturn\u001b[39;00m _inline_block(program)\n",
      "File \u001b[0;32m~/coldquanta/venv_cirq_superstaq/lib/python3.8/site-packages/qiskit/pulse/transforms/canonicalization.py:165\u001b[0m, in \u001b[0;36m_inline_schedule\u001b[0;34m(schedule)\u001b[0m\n\u001b[1;32m    160\u001b[0m \u001b[38;5;124;03m\"\"\"A helper function to inline subroutine of schedule.\u001b[39;00m\n\u001b[1;32m    161\u001b[0m \n\u001b[1;32m    162\u001b[0m \u001b[38;5;124;03m.. note:: If subroutine is ``ScheduleBlock`` it is converted into Schedule to get ``t0``.\u001b[39;00m\n\u001b[1;32m    163\u001b[0m \u001b[38;5;124;03m\"\"\"\u001b[39;00m\n\u001b[1;32m    164\u001b[0m ret_schedule \u001b[38;5;241m=\u001b[39m Schedule\u001b[38;5;241m.\u001b[39minitialize_from(schedule)\n\u001b[0;32m--> 165\u001b[0m \u001b[38;5;28;01mfor\u001b[39;00m t0, inst \u001b[38;5;129;01min\u001b[39;00m \u001b[43mschedule\u001b[49m\u001b[38;5;241;43m.\u001b[39;49m\u001b[43mchildren\u001b[49m:\n\u001b[1;32m    166\u001b[0m     \u001b[38;5;66;03m# note that schedule.instructions unintentionally flatten the nested schedule.\u001b[39;00m\n\u001b[1;32m    167\u001b[0m     \u001b[38;5;66;03m# this should be performed by another transformer node.\u001b[39;00m\n\u001b[1;32m    168\u001b[0m     \u001b[38;5;28;01mif\u001b[39;00m \u001b[38;5;28misinstance\u001b[39m(inst, instructions\u001b[38;5;241m.\u001b[39mCall):\n\u001b[1;32m    169\u001b[0m         \u001b[38;5;66;03m# bind parameter\u001b[39;00m\n\u001b[1;32m    170\u001b[0m         subroutine \u001b[38;5;241m=\u001b[39m inst\u001b[38;5;241m.\u001b[39massigned_subroutine()\n",
      "File \u001b[0;32m~/coldquanta/venv_cirq_superstaq/lib/python3.8/site-packages/qiskit/pulse/schedule.py:270\u001b[0m, in \u001b[0;36mSchedule.children\u001b[0;34m(self)\u001b[0m\n\u001b[1;32m    256\u001b[0m \u001b[38;5;129m@property\u001b[39m\n\u001b[1;32m    257\u001b[0m \u001b[38;5;28;01mdef\u001b[39;00m \u001b[38;5;21mchildren\u001b[39m(\u001b[38;5;28mself\u001b[39m) \u001b[38;5;241m-\u001b[39m\u001b[38;5;241m>\u001b[39m Tuple[Tuple[\u001b[38;5;28mint\u001b[39m, ScheduleComponent], \u001b[38;5;241m.\u001b[39m\u001b[38;5;241m.\u001b[39m\u001b[38;5;241m.\u001b[39m]:\n\u001b[1;32m    258\u001b[0m     \u001b[38;5;124;03m\"\"\"Return the child schedule components of this ``Schedule`` in the\u001b[39;00m\n\u001b[1;32m    259\u001b[0m \u001b[38;5;124;03m    order they were added to the schedule.\u001b[39;00m\n\u001b[1;32m    260\u001b[0m \n\u001b[0;32m   (...)\u001b[0m\n\u001b[1;32m    268\u001b[0m \u001b[38;5;124;03m        itself.\u001b[39;00m\n\u001b[1;32m    269\u001b[0m \u001b[38;5;124;03m    \"\"\"\u001b[39;00m\n\u001b[0;32m--> 270\u001b[0m     \u001b[38;5;28;01mreturn\u001b[39;00m \u001b[38;5;28mtuple\u001b[39m(\u001b[38;5;28;43mself\u001b[39;49m\u001b[38;5;241;43m.\u001b[39;49m\u001b[43m__children\u001b[49m)\n",
      "\u001b[0;31mAttributeError\u001b[0m: 'Schedule' object has no attribute '_Schedule__children'"
     ]
    }
   ],
   "source": [
    "out.pulse_sequence.draw()"
   ]
  },
  {
   "cell_type": "code",
   "execution_count": null,
   "id": "112d1eac",
   "metadata": {},
   "outputs": [],
   "source": []
  }
 ],
 "metadata": {
  "kernelspec": {
   "display_name": "Python 3 (ipykernel)",
   "language": "python",
   "name": "python3"
  },
  "language_info": {
   "codemirror_mode": {
    "name": "ipython",
    "version": 3
   },
   "file_extension": ".py",
   "mimetype": "text/x-python",
   "name": "python",
   "nbconvert_exporter": "python",
   "pygments_lexer": "ipython3",
   "version": "3.8.10"
  }
 },
 "nbformat": 4,
 "nbformat_minor": 5
}
