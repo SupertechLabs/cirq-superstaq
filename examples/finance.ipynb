{
 "cells": [
  {
   "cell_type": "markdown",
   "id": "c7dec4fd-8cff-4c6c-91db-d458d94315aa",
   "metadata": {},
   "source": [
    "## Finance\n"
   ]
  },
  {
   "cell_type": "code",
   "execution_count": 1,
   "id": "029917c7-091c-4563-98b2-b1bf4d532660",
   "metadata": {},
   "outputs": [],
   "source": [
    "import os\n",
    "import cirq_superstaq as css\n",
    "\n",
    "# service = css.Service(api_key=\"YOUR API KEY\")\n",
    "token = os.getenv(\"SUPERSTAQ_API_KEY\")\n",
    "service = css.Service(api_key=token)"
   ]
  },
  {
   "cell_type": "code",
   "execution_count": 2,
   "id": "f13ac60d-5e5f-400c-bc03-6f52fd0242a9",
   "metadata": {},
   "outputs": [
    {
     "name": "stderr",
     "output_type": "stream",
     "text": [
      "/home/palashg/coldquanta/venv_cirq_superstaq/lib/python3.8/site-packages/urllib3/connectionpool.py:1043: InsecureRequestWarning: Unverified HTTPS request is being made to host '127.0.0.1'. Adding certificate verification is strongly advised. See: https://urllib3.readthedocs.io/en/1.26.x/advanced-usage.html#ssl-warnings\n",
      "  warnings.warn(\n"
     ]
    },
    {
     "data": {
      "text/plain": [
       "'$438.00'"
      ]
     },
     "execution_count": 2,
     "metadata": {},
     "output_type": "execute_result"
    }
   ],
   "source": [
    "service.get_balance()"
   ]
  },
  {
   "cell_type": "markdown",
   "id": "17fa2fe0-9e6a-4bf2-a984-0ec4ff167a77",
   "metadata": {},
   "source": [
    "## Random number generator"
   ]
  },
  {
   "cell_type": "code",
   "execution_count": 3,
   "id": "861333ab",
   "metadata": {},
   "outputs": [],
   "source": [
    "import cirq\n",
    "import matplotlib.pyplot as plt"
   ]
  },
  {
   "cell_type": "code",
   "execution_count": 4,
   "id": "78be76bb-3bbd-4d5d-92ec-d84799a42585",
   "metadata": {},
   "outputs": [
    {
     "data": {
      "text/html": [
       "<pre style=\"overflow: auto; white-space: pre;\">0: ───H───M───\n",
       "          │\n",
       "1: ───H───M───\n",
       "          │\n",
       "2: ───H───M───\n",
       "          │\n",
       "3: ───H───M───\n",
       "          │\n",
       "4: ───H───M───</pre>"
      ],
      "text/plain": [
       "0: ───H───M───\n",
       "          │\n",
       "1: ───H───M───\n",
       "          │\n",
       "2: ───H───M───\n",
       "          │\n",
       "3: ───H───M───\n",
       "          │\n",
       "4: ───H───M───"
      ]
     },
     "execution_count": 4,
     "metadata": {},
     "output_type": "execute_result"
    }
   ],
   "source": [
    "qubits = cirq.LineQubit.range(5)\n",
    "circuit = cirq.Circuit()\n",
    "for q in qubits:\n",
    "    circuit += cirq.H(q)\n",
    "circuit += cirq.measure(*qubits)\n",
    "circuit"
   ]
  },
  {
   "cell_type": "code",
   "execution_count": 5,
   "id": "ac6e398c-cc9e-4a43-99f1-bb575570f01f",
   "metadata": {},
   "outputs": [
    {
     "name": "stderr",
     "output_type": "stream",
     "text": [
      "/home/palashg/coldquanta/venv_cirq_superstaq/lib/python3.8/site-packages/urllib3/connectionpool.py:1043: InsecureRequestWarning: Unverified HTTPS request is being made to host '127.0.0.1'. Adding certificate verification is strongly advised. See: https://urllib3.readthedocs.io/en/1.26.x/advanced-usage.html#ssl-warnings\n",
      "  warnings.warn(\n"
     ]
    },
    {
     "ename": "SuperstaQException",
     "evalue": "Status code: 500, Message: 'Non-retriable error making request to SuperstaQ API, INTERNAL SERVER ERROR'",
     "output_type": "error",
     "traceback": [
      "\u001b[0;31m---------------------------------------------------------------------------\u001b[0m",
      "\u001b[0;31mSuperstaQException\u001b[0m                        Traceback (most recent call last)",
      "Input \u001b[0;32mIn [5]\u001b[0m, in \u001b[0;36m<cell line: 1>\u001b[0;34m()\u001b[0m\n\u001b[0;32m----> 1\u001b[0m jakarta_job \u001b[38;5;241m=\u001b[39m \u001b[43mservice\u001b[49m\u001b[38;5;241;43m.\u001b[39;49m\u001b[43mcreate_job\u001b[49m\u001b[43m(\u001b[49m\u001b[43mcircuit\u001b[49m\u001b[43m,\u001b[49m\u001b[43m \u001b[49m\u001b[43mrepetitions\u001b[49m\u001b[38;5;241;43m=\u001b[39;49m\u001b[38;5;241;43m100\u001b[39;49m\u001b[43m,\u001b[49m\u001b[43m \u001b[49m\u001b[43mtarget\u001b[49m\u001b[38;5;241;43m=\u001b[39;49m\u001b[38;5;124;43m\"\u001b[39;49m\u001b[38;5;124;43mibmq_jakarta_qpu\u001b[39;49m\u001b[38;5;124;43m\"\u001b[39;49m\u001b[43m)\u001b[49m\n\u001b[1;32m      2\u001b[0m ionq_job \u001b[38;5;241m=\u001b[39m service\u001b[38;5;241m.\u001b[39mcreate_job(circuit, repetitions\u001b[38;5;241m=\u001b[39m\u001b[38;5;241m100\u001b[39m, target\u001b[38;5;241m=\u001b[39m\u001b[38;5;124m\"\u001b[39m\u001b[38;5;124mionq_ion_qpu\u001b[39m\u001b[38;5;124m\"\u001b[39m)\n\u001b[1;32m      3\u001b[0m ibmq_qasm_job \u001b[38;5;241m=\u001b[39m service\u001b[38;5;241m.\u001b[39mcreate_job(circuit, repetitions\u001b[38;5;241m=\u001b[39m\u001b[38;5;241m100\u001b[39m, target\u001b[38;5;241m=\u001b[39m\u001b[38;5;124m\"\u001b[39m\u001b[38;5;124mibmq_qasm_simulator\u001b[39m\u001b[38;5;124m\"\u001b[39m)\n",
      "File \u001b[0;32m~/coldquanta/cirq-superstaq/cirq_superstaq/service.py:223\u001b[0m, in \u001b[0;36mService.create_job\u001b[0;34m(self, circuit, repetitions, target, ibmq_pulse)\u001b[0m\n\u001b[1;32m    208\u001b[0m \u001b[38;5;124;03m\"\"\"Create a new job to run the given circuit.\u001b[39;00m\n\u001b[1;32m    209\u001b[0m \n\u001b[1;32m    210\u001b[0m \u001b[38;5;124;03mArgs:\u001b[39;00m\n\u001b[0;32m   (...)\u001b[0m\n\u001b[1;32m    220\u001b[0m \u001b[38;5;124;03m    SuperstaQException: If there was an error accessing the API.\u001b[39;00m\n\u001b[1;32m    221\u001b[0m \u001b[38;5;124;03m\"\"\"\u001b[39;00m\n\u001b[1;32m    222\u001b[0m serialized_circuits \u001b[38;5;241m=\u001b[39m cirq_superstaq\u001b[38;5;241m.\u001b[39mserialization\u001b[38;5;241m.\u001b[39mserialize_circuits(circuit)\n\u001b[0;32m--> 223\u001b[0m result \u001b[38;5;241m=\u001b[39m \u001b[38;5;28;43mself\u001b[39;49m\u001b[38;5;241;43m.\u001b[39;49m\u001b[43m_client\u001b[49m\u001b[38;5;241;43m.\u001b[39;49m\u001b[43mcreate_job\u001b[49m\u001b[43m(\u001b[49m\n\u001b[1;32m    224\u001b[0m \u001b[43m    \u001b[49m\u001b[43mserialized_circuits\u001b[49m\u001b[38;5;241;43m=\u001b[39;49m\u001b[43m{\u001b[49m\u001b[38;5;124;43m\"\u001b[39;49m\u001b[38;5;124;43mcirq_circuits\u001b[39;49m\u001b[38;5;124;43m\"\u001b[39;49m\u001b[43m:\u001b[49m\u001b[43m \u001b[49m\u001b[43mserialized_circuits\u001b[49m\u001b[43m}\u001b[49m\u001b[43m,\u001b[49m\n\u001b[1;32m    225\u001b[0m \u001b[43m    \u001b[49m\u001b[43mrepetitions\u001b[49m\u001b[38;5;241;43m=\u001b[39;49m\u001b[43mrepetitions\u001b[49m\u001b[43m,\u001b[49m\n\u001b[1;32m    226\u001b[0m \u001b[43m    \u001b[49m\u001b[43mtarget\u001b[49m\u001b[38;5;241;43m=\u001b[39;49m\u001b[43mtarget\u001b[49m\u001b[43m,\u001b[49m\n\u001b[1;32m    227\u001b[0m \u001b[43m    \u001b[49m\u001b[43mibmq_pulse\u001b[49m\u001b[38;5;241;43m=\u001b[39;49m\u001b[43mibmq_pulse\u001b[49m\u001b[43m,\u001b[49m\n\u001b[1;32m    228\u001b[0m \u001b[43m\u001b[49m\u001b[43m)\u001b[49m\n\u001b[1;32m    229\u001b[0m \u001b[38;5;66;03m# The returned job does not have fully populated fields, so make\u001b[39;00m\n\u001b[1;32m    230\u001b[0m \u001b[38;5;66;03m# a second call and return the results of the fully filled out job.\u001b[39;00m\n\u001b[1;32m    231\u001b[0m \u001b[38;5;28;01mreturn\u001b[39;00m \u001b[38;5;28mself\u001b[39m\u001b[38;5;241m.\u001b[39mget_job(result[\u001b[38;5;124m\"\u001b[39m\u001b[38;5;124mjob_ids\u001b[39m\u001b[38;5;124m\"\u001b[39m][\u001b[38;5;241m0\u001b[39m])\n",
      "File \u001b[0;32m~/coldquanta/venv_cirq_superstaq/lib/python3.8/site-packages/applications_superstaq/superstaq_client.py:157\u001b[0m, in \u001b[0;36m_SuperstaQClient.create_job\u001b[0;34m(self, serialized_circuits, repetitions, target, ibmq_pulse)\u001b[0m\n\u001b[1;32m    154\u001b[0m \u001b[38;5;28;01mif\u001b[39;00m ibmq_pulse:\n\u001b[1;32m    155\u001b[0m     json_dict[\u001b[38;5;124m\"\u001b[39m\u001b[38;5;124mibmq_pulse\u001b[39m\u001b[38;5;124m\"\u001b[39m] \u001b[38;5;241m=\u001b[39m ibmq_pulse\n\u001b[0;32m--> 157\u001b[0m \u001b[38;5;28;01mreturn\u001b[39;00m \u001b[38;5;28;43mself\u001b[39;49m\u001b[38;5;241;43m.\u001b[39;49m\u001b[43mpost_request\u001b[49m\u001b[43m(\u001b[49m\u001b[38;5;124;43m\"\u001b[39;49m\u001b[38;5;124;43m/jobs\u001b[39;49m\u001b[38;5;124;43m\"\u001b[39;49m\u001b[43m,\u001b[49m\u001b[43m \u001b[49m\u001b[43mjson_dict\u001b[49m\u001b[43m)\u001b[49m\n",
      "File \u001b[0;32m~/coldquanta/venv_cirq_superstaq/lib/python3.8/site-packages/applications_superstaq/superstaq_client.py:120\u001b[0m, in \u001b[0;36m_SuperstaQClient.post_request\u001b[0;34m(self, endpoint, json_dict)\u001b[0m\n\u001b[1;32m    112\u001b[0m \u001b[38;5;28;01mdef\u001b[39;00m \u001b[38;5;21mrequest\u001b[39m() \u001b[38;5;241m-\u001b[39m\u001b[38;5;241m>\u001b[39m requests\u001b[38;5;241m.\u001b[39mResponse:\n\u001b[1;32m    113\u001b[0m     \u001b[38;5;28;01mreturn\u001b[39;00m requests\u001b[38;5;241m.\u001b[39mpost(\n\u001b[1;32m    114\u001b[0m         \u001b[38;5;124mf\u001b[39m\u001b[38;5;124m\"\u001b[39m\u001b[38;5;132;01m{\u001b[39;00m\u001b[38;5;28mself\u001b[39m\u001b[38;5;241m.\u001b[39murl\u001b[38;5;132;01m}\u001b[39;00m\u001b[38;5;132;01m{\u001b[39;00mendpoint\u001b[38;5;132;01m}\u001b[39;00m\u001b[38;5;124m\"\u001b[39m,\n\u001b[1;32m    115\u001b[0m         json\u001b[38;5;241m=\u001b[39mjson_dict,\n\u001b[1;32m    116\u001b[0m         headers\u001b[38;5;241m=\u001b[39m\u001b[38;5;28mself\u001b[39m\u001b[38;5;241m.\u001b[39mheaders,\n\u001b[1;32m    117\u001b[0m         verify\u001b[38;5;241m=\u001b[39m\u001b[38;5;28mself\u001b[39m\u001b[38;5;241m.\u001b[39mverify_https,\n\u001b[1;32m    118\u001b[0m     )\n\u001b[0;32m--> 120\u001b[0m \u001b[38;5;28;01mreturn\u001b[39;00m \u001b[38;5;28;43mself\u001b[39;49m\u001b[38;5;241;43m.\u001b[39;49m\u001b[43m_make_request\u001b[49m\u001b[43m(\u001b[49m\u001b[43mrequest\u001b[49m\u001b[43m)\u001b[49m\u001b[38;5;241m.\u001b[39mjson()\n",
      "File \u001b[0;32m~/coldquanta/venv_cirq_superstaq/lib/python3.8/site-packages/applications_superstaq/superstaq_client.py:317\u001b[0m, in \u001b[0;36m_SuperstaQClient._make_request\u001b[0;34m(self, request)\u001b[0m\n\u001b[1;32m    314\u001b[0m     \u001b[38;5;28;01mif\u001b[39;00m response\u001b[38;5;241m.\u001b[39mok:\n\u001b[1;32m    315\u001b[0m         \u001b[38;5;28;01mreturn\u001b[39;00m response\n\u001b[0;32m--> 317\u001b[0m     \u001b[38;5;28;43mself\u001b[39;49m\u001b[38;5;241;43m.\u001b[39;49m\u001b[43m_handle_status_codes\u001b[49m\u001b[43m(\u001b[49m\u001b[43mresponse\u001b[49m\u001b[43m)\u001b[49m\n\u001b[1;32m    318\u001b[0m     message \u001b[38;5;241m=\u001b[39m response\u001b[38;5;241m.\u001b[39mreason\n\u001b[1;32m    320\u001b[0m \u001b[38;5;66;03m# Fallthrough should retry.\u001b[39;00m\n",
      "File \u001b[0;32m~/coldquanta/venv_cirq_superstaq/lib/python3.8/site-packages/applications_superstaq/superstaq_client.py:291\u001b[0m, in \u001b[0;36m_SuperstaQClient._handle_status_codes\u001b[0;34m(self, response)\u001b[0m\n\u001b[1;32m    289\u001b[0m     \u001b[38;5;28;01melse\u001b[39;00m:\n\u001b[1;32m    290\u001b[0m         message \u001b[38;5;241m=\u001b[39m \u001b[38;5;28mstr\u001b[39m(response\u001b[38;5;241m.\u001b[39mtext)\n\u001b[0;32m--> 291\u001b[0m \u001b[38;5;28;01mraise\u001b[39;00m applications_superstaq\u001b[38;5;241m.\u001b[39mSuperstaQException(\n\u001b[1;32m    292\u001b[0m     \u001b[38;5;124mf\u001b[39m\u001b[38;5;124m\"\u001b[39m\u001b[38;5;124mNon-retriable error making request to SuperstaQ API, \u001b[39m\u001b[38;5;132;01m{\u001b[39;00mmessage\u001b[38;5;132;01m}\u001b[39;00m\u001b[38;5;124m\"\u001b[39m,\n\u001b[1;32m    293\u001b[0m     response\u001b[38;5;241m.\u001b[39mstatus_code,\n\u001b[1;32m    294\u001b[0m )\n",
      "\u001b[0;31mSuperstaQException\u001b[0m: Status code: 500, Message: 'Non-retriable error making request to SuperstaQ API, INTERNAL SERVER ERROR'"
     ]
    }
   ],
   "source": [
    "jakarta_job = service.create_job(circuit, repetitions=100, target=\"ibmq_jakarta_qpu\")\n",
    "ionq_job = service.create_job(circuit, repetitions=100, target=\"ionq_ion_qpu\")\n",
    "ibmq_qasm_job = service.create_job(circuit, repetitions=100, target=\"ibmq_qasm_simulator\")\n",
    "aws_sv1_job = service.create_job(circuit, repetitions=100, target=\"aws_sv1_simulator\")"
   ]
  },
  {
   "cell_type": "code",
   "execution_count": null,
   "id": "94a09e89",
   "metadata": {},
   "outputs": [],
   "source": [
    "def plot_counts(counts, name):\n",
    "    plt.figure(figsize=(15, 5), dpi=150)\n",
    "    plt.xticks(rotation=90)\n",
    "    plt.bar(counts.keys(), counts.values())\n",
    "    plt.title(name)\n",
    "    plt.show()"
   ]
  },
  {
   "cell_type": "code",
   "execution_count": null,
   "id": "97424de9-866b-40f4-98a2-72c858d2ac7a",
   "metadata": {},
   "outputs": [],
   "source": [
    "jobs = [jakarta_job, ionq_job, ibmq_qasm_job, aws_sv1_job]\n",
    "names = \"IBM-Jakarta\", \"IonQ\", \"IBM-Sim\", \"AWS-Sim\"\n",
    "for job, name in zip(jobs, names):\n",
    "    print(\"\\n\", name, \":\", job.status())\n",
    "    if job.status() == \"Done\":\n",
    "        print(job.counts())\n",
    "        plot_counts(job.counts(), name)"
   ]
  },
  {
   "cell_type": "markdown",
   "id": "eb27a949-b8df-42ec-8c43-0fd25eddc3d6",
   "metadata": {},
   "source": [
    "## Generate a QUBO"
   ]
  },
  {
   "cell_type": "code",
   "execution_count": null,
   "id": "0194721d",
   "metadata": {},
   "outputs": [],
   "source": [
    "out = service.tsp([\"Enter\", \"Cities\", \"Here\"])"
   ]
  },
  {
   "cell_type": "code",
   "execution_count": null,
   "id": "b12b3bed-5d5c-4703-b9a5-dafd5d8e5bd1",
   "metadata": {},
   "outputs": [],
   "source": [
    "min_vol_output = service.find_min_vol_portfolio([\"AAPL\", \"AMZN\", \"XOM\", \"T\", \"WAL\"], 1.12)"
   ]
  },
  {
   "cell_type": "code",
   "execution_count": null,
   "id": "61fde89a-560c-4fc6-bca3-254b82f9f132",
   "metadata": {},
   "outputs": [],
   "source": [
    "min_vol_output.best_portfolio"
   ]
  },
  {
   "cell_type": "code",
   "execution_count": null,
   "id": "eecceafc-1f2c-4c58-bf6c-f5a9a8c1ea66",
   "metadata": {},
   "outputs": [],
   "source": [
    "min_vol_output.qubo"
   ]
  },
  {
   "cell_type": "markdown",
   "id": "46513875-81a3-491e-800c-e0a570f13b82",
   "metadata": {},
   "source": [
    "## Solve QUBO on quantum hardware"
   ]
  },
  {
   "cell_type": "code",
   "execution_count": null,
   "id": "23558e16-cbd8-4d3b-94df-f64e97682cae",
   "metadata": {},
   "outputs": [],
   "source": [
    "import qubovert as qv\n",
    "\n",
    "qubo = min_vol_output.qubo  # qubo = qv.QUBO(\"add the qubo here\")"
   ]
  },
  {
   "cell_type": "code",
   "execution_count": null,
   "id": "10493a0a-b37c-41f8-b301-07b124d67161",
   "metadata": {},
   "outputs": [],
   "source": [
    "result = service.submit_qubo(qubo, target=\"d-wave_dw-2000q-6_qpu\", repetitions=10000)"
   ]
  },
  {
   "cell_type": "code",
   "execution_count": null,
   "id": "8081cb34",
   "metadata": {},
   "outputs": [],
   "source": [
    "result"
   ]
  }
 ],
 "metadata": {
  "kernelspec": {
   "display_name": "Python 3 (ipykernel)",
   "language": "python",
   "name": "python3"
  },
  "language_info": {
   "codemirror_mode": {
    "name": "ipython",
    "version": 3
   },
   "file_extension": ".py",
   "mimetype": "text/x-python",
   "name": "python",
   "nbconvert_exporter": "python",
   "pygments_lexer": "ipython3",
   "version": "3.8.10"
  }
 },
 "nbformat": 4,
 "nbformat_minor": 5
}
