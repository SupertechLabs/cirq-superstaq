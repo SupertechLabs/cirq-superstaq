{
 "cells": [
  {
   "cell_type": "markdown",
   "id": "c7dec4fd-8cff-4c6c-91db-d458d94315aa",
   "metadata": {},
   "source": [
    "## Finance\n"
   ]
  },
  {
   "cell_type": "code",
   "execution_count": null,
   "id": "029917c7-091c-4563-98b2-b1bf4d532660",
   "metadata": {},
   "outputs": [],
   "source": [
    "import cirq_superstaq as css\n",
    "\n",
    "service = css.Service(\n",
    "    api_key=\"Insert superstaq token that you received from https://superstaq.super.tech\",\n",
    ")"
   ]
  },
  {
   "cell_type": "code",
   "execution_count": null,
   "id": "f13ac60d-5e5f-400c-bc03-6f52fd0242a9",
   "metadata": {},
   "outputs": [],
   "source": [
    "service.get_balance()"
   ]
  },
  {
   "cell_type": "markdown",
   "id": "17fa2fe0-9e6a-4bf2-a984-0ec4ff167a77",
   "metadata": {},
   "source": [
    "## Random number generator"
   ]
  },
  {
   "cell_type": "code",
   "execution_count": null,
   "id": "861333ab",
   "metadata": {},
   "outputs": [],
   "source": [
    "import cirq\n",
    "import matplotlib.pyplot as plt"
   ]
  },
  {
   "cell_type": "code",
   "execution_count": null,
   "id": "78be76bb-3bbd-4d5d-92ec-d84799a42585",
   "metadata": {},
   "outputs": [],
   "source": [
    "qubits = cirq.LineQubit.range(5)\n",
    "circuit = cirq.Circuit()\n",
    "for q in qubits:\n",
    "    circuit += cirq.H(q)\n",
    "circuit += cirq.measure(*qubits)\n",
    "circuit"
   ]
  },
  {
   "cell_type": "code",
   "execution_count": null,
   "id": "ac6e398c-cc9e-4a43-99f1-bb575570f01f",
   "metadata": {},
   "outputs": [],
   "source": [
    "jakarta_job = service.create_job(circuit, repetitions=100, target=\"ibmq_jakarta_qpu\")\n",
    "ionq_job = service.create_job(circuit, repetitions=100, target=\"ionq_ion_qpu\")\n",
    "ibmq_qasm_job = service.create_job(circuit, repetitions=100, target=\"ibmq_qasm_simulator\")\n",
    "aws_sv1_job = service.create_job(circuit, repetitions=100, target=\"aws_sv1_simulator\")"
   ]
  },
  {
   "cell_type": "code",
   "execution_count": null,
   "id": "94a09e89",
   "metadata": {},
   "outputs": [],
   "source": [
    "def plot_counts(counts, name):\n",
    "    plt.figure(figsize=(15, 5), dpi=150)\n",
    "    plt.xticks(rotation=90)\n",
    "    plt.bar(counts.keys(), counts.values())\n",
    "    plt.title(name)\n",
    "    plt.show()"
   ]
  },
  {
   "cell_type": "code",
   "execution_count": null,
   "id": "97424de9-866b-40f4-98a2-72c858d2ac7a",
   "metadata": {},
   "outputs": [],
   "source": [
    "jobs = [jakarta_job, ionq_job, ibmq_qasm_job, aws_sv1_job]\n",
    "names = \"IBM-Jakarta\", \"IonQ\", \"IBM-Sim\", \"AWS-Sim\"\n",
    "for job, name in zip(jobs, names):\n",
    "    print(\"\\n\", name, \":\", job.status())\n",
    "    if job.status() == \"Done\":\n",
    "        print(job.counts())\n",
    "        plot_counts(job.counts(), name)"
   ]
  },
  {
   "cell_type": "markdown",
   "id": "eb27a949-b8df-42ec-8c43-0fd25eddc3d6",
   "metadata": {},
   "source": [
    "## Generate a QUBO"
   ]
  },
  {
   "cell_type": "code",
   "execution_count": null,
   "id": "0194721d",
   "metadata": {},
   "outputs": [],
   "source": [
    "out = service.tsp([\"Enter\", \"Cities\", \"Here\"])"
   ]
  },
  {
   "cell_type": "code",
   "execution_count": null,
   "id": "b12b3bed-5d5c-4703-b9a5-dafd5d8e5bd1",
   "metadata": {},
   "outputs": [],
   "source": [
    "min_vol_output = service.find_min_vol_portfolio([\"AAPL\", \"AMZN\", \"XOM\", \"T\", \"WAL\"], 1.12)"
   ]
  },
  {
   "cell_type": "code",
   "execution_count": null,
   "id": "61fde89a-560c-4fc6-bca3-254b82f9f132",
   "metadata": {},
   "outputs": [],
   "source": [
    "min_vol_output.best_portfolio"
   ]
  },
  {
   "cell_type": "code",
   "execution_count": null,
   "id": "eecceafc-1f2c-4c58-bf6c-f5a9a8c1ea66",
   "metadata": {},
   "outputs": [],
   "source": [
    "min_vol_output.qubo"
   ]
  },
  {
   "cell_type": "markdown",
   "id": "46513875-81a3-491e-800c-e0a570f13b82",
   "metadata": {},
   "source": [
    "## Solve QUBO on quantum hardware"
   ]
  },
  {
   "cell_type": "code",
   "execution_count": null,
   "id": "23558e16-cbd8-4d3b-94df-f64e97682cae",
   "metadata": {},
   "outputs": [],
   "source": [
    "import qubovert as qv\n",
    "\n",
    "qubo = min_vol_output.qubo  # qubo = qv.QUBO(\"add the qubo here\")"
   ]
  },
  {
   "cell_type": "code",
   "execution_count": null,
   "id": "10493a0a-b37c-41f8-b301-07b124d67161",
   "metadata": {},
   "outputs": [],
   "source": [
    "result = service.submit_qubo(qubo, target=\"d-wave_dw-2000q-6_qpu\", repetitions=10000)"
   ]
  },
  {
   "cell_type": "code",
   "execution_count": null,
   "id": "8081cb34",
   "metadata": {},
   "outputs": [],
   "source": [
    "result"
   ]
  }
 ],
 "metadata": {
  "kernelspec": {
   "display_name": "Python 3 (ipykernel)",
   "language": "python",
   "name": "python3"
  },
  "language_info": {
   "codemirror_mode": {
    "name": "ipython",
    "version": 3
   },
   "file_extension": ".py",
   "mimetype": "text/x-python",
   "name": "python",
   "nbconvert_exporter": "python",
   "pygments_lexer": "ipython3",
   "version": "3.8.10"
  }
 },
 "nbformat": 4,
 "nbformat_minor": 5
}
