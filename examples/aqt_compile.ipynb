{
 "cells": [
  {
   "cell_type": "markdown",
   "id": "c7dec4fd-8cff-4c6c-91db-d458d94315aa",
   "metadata": {},
   "source": [
    "## AQT Compile"
   ]
  },
  {
   "cell_type": "code",
   "execution_count": null,
   "id": "029917c7-091c-4563-98b2-b1bf4d532660",
   "metadata": {},
   "outputs": [],
   "source": [
    "import cirq\n",
    "import cirq_superstaq as css\n",
    "import os"
   ]
  },
  {
   "cell_type": "code",
   "execution_count": null,
   "id": "c80cdc6b",
   "metadata": {},
   "outputs": [],
   "source": [
    "service = css.Service()"
   ]
  },
  {
   "cell_type": "code",
   "execution_count": null,
   "id": "7eeb7d46",
   "metadata": {},
   "outputs": [],
   "source": [
    "# Do this if you need to upload new configs:\n",
    "res = service.aqt_upload_configs(\n",
    "    \"Insert path to your Pulses.yaml\", \"Insert path to your Variables.yaml\"\n",
    ")"
   ]
  },
  {
   "cell_type": "code",
   "execution_count": null,
   "id": "2a36f1aa",
   "metadata": {},
   "outputs": [],
   "source": [
    "service.aqt_download_configs(\"Pulses.yaml\", \"Variables.yaml\")"
   ]
  },
  {
   "cell_type": "markdown",
   "id": "36e22d0f",
   "metadata": {},
   "source": [
    "## Single circuit compilation"
   ]
  },
  {
   "cell_type": "code",
   "execution_count": null,
   "id": "5f107c0d-426e-4444-9749-8589bea4b679",
   "metadata": {
    "scrolled": true
   },
   "outputs": [],
   "source": [
    "qubits = cirq.LineQubit.range(8)"
   ]
  },
  {
   "cell_type": "code",
   "execution_count": null,
   "id": "86a9c7c0-81b8-438b-8f53-538dfa5b011d",
   "metadata": {},
   "outputs": [],
   "source": [
    "circuit1 = cirq.Circuit()\n",
    "for q in qubits[4:8]:\n",
    "    circuit1 += cirq.H(q)\n",
    "print(circuit1)"
   ]
  },
  {
   "cell_type": "code",
   "execution_count": null,
   "id": "eabb48bb-7e06-42e2-acb8-70dc1209e591",
   "metadata": {
    "scrolled": true
   },
   "outputs": [],
   "source": [
    "compiler_output = service.aqt_compile(circuit1)"
   ]
  },
  {
   "cell_type": "code",
   "execution_count": null,
   "id": "fea5332a",
   "metadata": {},
   "outputs": [],
   "source": [
    "print(compiler_output.circuit)"
   ]
  },
  {
   "cell_type": "code",
   "execution_count": null,
   "id": "9d0937a8",
   "metadata": {},
   "outputs": [],
   "source": [
    "compiler_output.seq.plot(element=0)"
   ]
  },
  {
   "cell_type": "markdown",
   "id": "0c57bf77",
   "metadata": {},
   "source": [
    "## Multiple circuit compilation"
   ]
  },
  {
   "cell_type": "code",
   "execution_count": null,
   "id": "4a191c26",
   "metadata": {},
   "outputs": [],
   "source": [
    "circuit2 = cirq.Circuit()\n",
    "circuit2 += cirq.SWAP(qubits[4], qubits[5])\n",
    "circuit2 += cirq.H(qubits[6])\n",
    "print(circuit2)"
   ]
  },
  {
   "cell_type": "code",
   "execution_count": null,
   "id": "8fd1e2a6-4e63-470a-aaec-d9ccc432eb64",
   "metadata": {
    "scrolled": true
   },
   "outputs": [],
   "source": [
    "compiler_output = service.aqt_compile([circuit1, circuit2])"
   ]
  },
  {
   "cell_type": "code",
   "execution_count": null,
   "id": "5dcd7951",
   "metadata": {},
   "outputs": [],
   "source": [
    "print(compiler_output.circuits[0])\n",
    "print()\n",
    "print(compiler_output.circuits[1])"
   ]
  },
  {
   "cell_type": "code",
   "execution_count": null,
   "id": "1ec75a40-ee18-4bee-b544-8bb1cbbbe45a",
   "metadata": {},
   "outputs": [],
   "source": [
    "compiler_output.seq.plot(element=0)"
   ]
  },
  {
   "cell_type": "code",
   "execution_count": null,
   "id": "81e69456",
   "metadata": {},
   "outputs": [],
   "source": [
    "compiler_output.seq.plot(element=1)"
   ]
  },
  {
   "cell_type": "markdown",
   "id": "a8e6a4cb",
   "metadata": {},
   "source": [
    "## iToffoli circuit"
   ]
  },
  {
   "cell_type": "code",
   "execution_count": null,
   "id": "af6a0e3f",
   "metadata": {},
   "outputs": [],
   "source": [
    "circuit1 = cirq.Circuit(css.AQTITOFFOLI(qubits[4], qubits[6], qubits[5]))\n",
    "print(circuit1)"
   ]
  },
  {
   "cell_type": "code",
   "execution_count": null,
   "id": "35a66eb4",
   "metadata": {
    "scrolled": false
   },
   "outputs": [],
   "source": [
    "compiler_output = service.aqt_compile(circuit1)"
   ]
  },
  {
   "cell_type": "code",
   "execution_count": null,
   "id": "57338520",
   "metadata": {},
   "outputs": [],
   "source": [
    "print(compiler_output.circuit)"
   ]
  },
  {
   "cell_type": "code",
   "execution_count": null,
   "id": "2e179806",
   "metadata": {},
   "outputs": [],
   "source": [
    "compiler_output.seq.plot(element=0)"
   ]
  }
 ],
 "metadata": {
  "kernelspec": {
   "display_name": "Python 3 (ipykernel)",
   "language": "python",
   "name": "python3"
  },
  "language_info": {
   "codemirror_mode": {
    "name": "ipython",
    "version": 3
   },
   "file_extension": ".py",
   "mimetype": "text/x-python",
   "name": "python",
   "nbconvert_exporter": "python",
   "pygments_lexer": "ipython3",
   "version": "3.8.10"
  }
 },
 "nbformat": 4,
 "nbformat_minor": 5
}
